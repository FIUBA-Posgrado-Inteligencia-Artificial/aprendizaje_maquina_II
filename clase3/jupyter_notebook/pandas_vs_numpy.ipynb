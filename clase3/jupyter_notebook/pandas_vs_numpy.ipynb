{
 "cells": [
  {
   "cell_type": "code",
   "execution_count": 1,
   "id": "initial_id",
   "metadata": {
    "ExecuteTime": {
     "end_time": "2024-03-16T04:25:25.705563Z",
     "start_time": "2024-03-16T04:25:25.322601Z"
    },
    "collapsed": true
   },
   "outputs": [],
   "source": [
    "import numpy as np\n",
    "import pandas as pd"
   ]
  },
  {
   "cell_type": "markdown",
   "id": "e6ec31fa06a88f0",
   "metadata": {
    "collapsed": false
   },
   "source": [
    "# Numpy vs Pandas\n",
    "\n",
    "Un aspecto al que muchas personas no prestan suficiente atención, lo que a menudo conduce a un uso ineficiente de Pandas, es que esta biblioteca está construida en torno al formato de columnas.\n",
    "\n",
    "**Pandas** se basa en el objeto `DataFrame`, un concepto inspirado en el Data Frame de **R**, que privilegia la organización por columnas. Un `DataFrame` es una tabla bidimensional compuesta por filas y columnas.\n",
    "\n",
    "En **NumPy**, se puede especificar el orden principal de almacenamiento. Al crear un `ndarray`, este es de fila principal de forma predeterminada, a menos que se especifique otro orden. Dado que **Pandas** utiliza **NumPy** \"por debajo\" (como su base), a veces se comete el error de tratar los `DataFrame` de la misma manera que se haría con los `ndarray`. Por ejemplo, intentar acceder a los datos por filas en un `DataFrame` para entrenar un modelo puede generar un procesamiento innecesariamente lento."
   ]
  },
  {
   "cell_type": "code",
   "execution_count": 2,
   "id": "fbd58eff6a1d974b",
   "metadata": {
    "ExecuteTime": {
     "end_time": "2024-03-16T04:25:25.822653Z",
     "start_time": "2024-03-16T04:25:25.817960Z"
    },
    "collapsed": false
   },
   "outputs": [],
   "source": [
    "array = np.random.randint(1, 9001, size=(9000, 10))\n",
    "n_rows, n_cols = array.shape\n",
    "df = pd.DataFrame(array, columns=[i for i in \"abcdefghik\"])"
   ]
  },
  {
   "cell_type": "markdown",
   "id": "192bc8ce35e99c60",
   "metadata": {
    "collapsed": false
   },
   "source": [
    "En la siguientes celdas, se puede ver que acceder a un `DataFrame` por fila es mucho más lento que acceder al mismo `DataFrame` por columna.\n"
   ]
  },
  {
   "cell_type": "code",
   "execution_count": 3,
   "id": "fa3672f933fd0604",
   "metadata": {
    "ExecuteTime": {
     "end_time": "2024-03-16T04:25:32.014790Z",
     "start_time": "2024-03-16T04:25:26.465526Z"
    },
    "collapsed": false
   },
   "outputs": [
    {
     "name": "stdout",
     "output_type": "stream",
     "text": [
      "4.41 ms ± 298 μs per loop (mean ± std. dev. of 7 runs, 100 loops each)\n"
     ]
    }
   ],
   "source": [
    "%%timeit\n",
    "# Iterando un DataFrame por columna\n",
    "for col in df.columns:\n",
    "    for item in df[col]:\n",
    "        pass"
   ]
  },
  {
   "cell_type": "code",
   "execution_count": 4,
   "id": "e8a1f802b1072e04",
   "metadata": {
    "ExecuteTime": {
     "end_time": "2024-03-16T04:25:34.018909Z",
     "start_time": "2024-03-16T04:25:32.015938Z"
    },
    "collapsed": false
   },
   "outputs": [
    {
     "name": "stdout",
     "output_type": "stream",
     "text": [
      "94 ms ± 15.8 ms per loop (mean ± std. dev. of 7 runs, 10 loops each)\n"
     ]
    }
   ],
   "source": [
    "%%timeit\n",
    "# Iterando un DataFrame por fila\n",
    "n_rows = len(df)\n",
    "for i in range(n_rows):\n",
    "    for item in df.iloc[i]:\n",
    "        pass"
   ]
  },
  {
   "cell_type": "code",
   "execution_count": 5,
   "id": "1836266213d96668",
   "metadata": {
    "ExecuteTime": {
     "end_time": "2024-03-16T04:25:34.021782Z",
     "start_time": "2024-03-16T04:25:34.019706Z"
    },
    "collapsed": false
   },
   "outputs": [
    {
     "name": "stdout",
     "output_type": "stream",
     "text": [
      "Hacer una iteración por fila lleva un 1762.0% mas lento que por columna\n"
     ]
    }
   ],
   "source": [
    "time_col = 4.28\n",
    "time_row = 79.7\n",
    "print(\"Hacer una iteración por fila lleva un \" + str(round((time_row-time_col) * 100 / time_col, 0)) + \"% mas lento que por columna\")"
   ]
  },
  {
   "cell_type": "markdown",
   "id": "452bb6fe51c9fa94",
   "metadata": {
    "collapsed": false
   },
   "source": [
    "En cambio si vemos directamente desde el `ndarray` (vamos a usar el método `flatten` para poder notar el efecto), pero primero obtenemos un array en modo columna principal (dado qeu podemos que en Numpy podemos elegir este comportamineto):"
   ]
  },
  {
   "cell_type": "code",
   "execution_count": 6,
   "id": "76c30579",
   "metadata": {},
   "outputs": [
    {
     "name": "stdout",
     "output_type": "stream",
     "text": [
      "Array en orden C (row-major):\n",
      " - C_CONTIGUOUS: True\n",
      " - F_CONTIGUOUS: False\n",
      "Array en orden F (column-major):\n",
      " - C_CONTIGUOUS: False\n",
      " - F_CONTIGUOUS: True\n"
     ]
    }
   ],
   "source": [
    "print('Array en orden C (row-major):')\n",
    "print(' - C_CONTIGUOUS:', array.flags['C_CONTIGUOUS'])\n",
    "print(' - F_CONTIGUOUS:', array.flags['F_CONTIGUOUS'])\n",
    "\n",
    "arr_f_copy = array.copy(order='F')\n",
    "print('Array en orden F (column-major):')\n",
    "print(' - C_CONTIGUOUS:', arr_f_copy.flags['C_CONTIGUOUS'])\n",
    "print(' - F_CONTIGUOUS:', arr_f_copy.flags['F_CONTIGUOUS'])"
   ]
  },
  {
   "cell_type": "code",
   "execution_count": 7,
   "id": "2e582eb5",
   "metadata": {},
   "outputs": [
    {
     "name": "stdout",
     "output_type": "stream",
     "text": [
      "18.2 μs ± 1.46 μs per loop (mean ± std. dev. of 7 runs, 100,000 loops each)\n"
     ]
    }
   ],
   "source": [
    "%%timeit\n",
    "_ = array.flatten(order='C') # Aplanamos en el sentido de las filas"
   ]
  },
  {
   "cell_type": "code",
   "execution_count": 8,
   "id": "fb7f899a",
   "metadata": {},
   "outputs": [
    {
     "name": "stdout",
     "output_type": "stream",
     "text": [
      "79 μs ± 7.79 μs per loop (mean ± std. dev. of 7 runs, 10,000 loops each)\n"
     ]
    }
   ],
   "source": [
    "%%timeit\n",
    "_ = array.flatten(order='F') # Aplanamos en el sentido de las columnas"
   ]
  },
  {
   "cell_type": "code",
   "execution_count": 9,
   "id": "60ed5b59ba4cc47e",
   "metadata": {
    "ExecuteTime": {
     "end_time": "2024-03-16T04:25:44.642970Z",
     "start_time": "2024-03-16T04:25:44.640957Z"
    },
    "collapsed": false
   },
   "outputs": [
    {
     "name": "stdout",
     "output_type": "stream",
     "text": [
      "Hacer una iteración por columna lleva un 315.0% mas lento que por fila\n"
     ]
    }
   ],
   "source": [
    "time_row = 16.2\n",
    "time_col = 67.3\n",
    "print(\"Hacer una iteración por columna lleva un \" + str(round((time_col-time_row) * 100 / time_row, 0)) + \"% mas lento que por fila\")"
   ]
  },
  {
   "cell_type": "markdown",
   "id": "74fdd0f5",
   "metadata": {},
   "source": [
    "En cambio si vemos en el array que está en modo columna principal:"
   ]
  },
  {
   "cell_type": "code",
   "execution_count": 10,
   "id": "47e3ed8b",
   "metadata": {},
   "outputs": [
    {
     "name": "stdout",
     "output_type": "stream",
     "text": [
      "59.6 μs ± 896 ns per loop (mean ± std. dev. of 7 runs, 10,000 loops each)\n"
     ]
    }
   ],
   "source": [
    "%%timeit\n",
    "_ = arr_f_copy.flatten(order='C') # Aplanamos en el sentido de las filas"
   ]
  },
  {
   "cell_type": "code",
   "execution_count": 11,
   "id": "c9a2b9d9",
   "metadata": {},
   "outputs": [
    {
     "name": "stdout",
     "output_type": "stream",
     "text": [
      "17.8 μs ± 1.61 μs per loop (mean ± std. dev. of 7 runs, 100,000 loops each)\n"
     ]
    }
   ],
   "source": [
    "%%timeit\n",
    "_ = arr_f_copy.flatten(order='F') # Aplanamos en el sentido de las columnas"
   ]
  },
  {
   "cell_type": "code",
   "execution_count": 12,
   "id": "84331471",
   "metadata": {},
   "outputs": [
    {
     "name": "stdout",
     "output_type": "stream",
     "text": [
      "Hacer una iteración por fila lleva un 293.0% mas lento que por columna\n"
     ]
    }
   ],
   "source": [
    "time_col = 15.2\n",
    "time_row = 59.8\n",
    "print(\"Hacer una iteración por fila lleva un \" + str(round((time_row-time_col) * 100 / time_col, 0)) + \"% mas lento que por columna\")"
   ]
  },
  {
   "cell_type": "markdown",
   "id": "fb69c01da2bbdbd2",
   "metadata": {
    "collapsed": false
   },
   "source": [
    "----\n",
    "\n",
    "## CSV vs Parquet\n",
    "\n",
    "Cuando se almacena en formato CSV, el archivo de wine ocupa 101 KB. Pero cuando se almacena en Parquet, el mismo archivo ocupa 34 KB."
   ]
  },
  {
   "cell_type": "code",
   "execution_count": 13,
   "id": "7ba50eff0245b395",
   "metadata": {
    "ExecuteTime": {
     "end_time": "2024-03-16T04:25:44.647135Z",
     "start_time": "2024-03-16T04:25:44.644207Z"
    },
    "collapsed": false
   },
   "outputs": [],
   "source": [
    "import os\n",
    "csv_size = os.path.getsize(\"./winequality-red.csv\")\n",
    "parquet_size = os.path.getsize(\"./winequality-red.parquet\")"
   ]
  },
  {
   "cell_type": "code",
   "execution_count": 14,
   "id": "c845660a82cccc95",
   "metadata": {
    "ExecuteTime": {
     "end_time": "2024-03-16T04:25:44.649979Z",
     "start_time": "2024-03-16T04:25:44.647832Z"
    },
    "collapsed": false
   },
   "outputs": [
    {
     "name": "stdout",
     "output_type": "stream",
     "text": [
      "El tamaño del CSV es 100951 Bytes\n",
      "El tamaño del parquet es 34359 Bytes\n",
      "El tamaño del parquet es un 65.96467593188775 % mas chico que el csv\n"
     ]
    }
   ],
   "source": [
    "print(\"El tamaño del CSV es\", csv_size, \"Bytes\")\n",
    "print(\"El tamaño del parquet es\", parquet_size, \"Bytes\")\n",
    "print(\"El tamaño del parquet es un\", (csv_size-parquet_size) * 100 / csv_size, \"% mas chico que el csv\")"
   ]
  }
 ],
 "metadata": {
  "kernelspec": {
   "display_name": "aprendizaje-maquina-ii",
   "language": "python",
   "name": "python3"
  },
  "language_info": {
   "codemirror_mode": {
    "name": "ipython",
    "version": 3
   },
   "file_extension": ".py",
   "mimetype": "text/x-python",
   "name": "python",
   "nbconvert_exporter": "python",
   "pygments_lexer": "ipython3",
   "version": "3.11.12"
  }
 },
 "nbformat": 4,
 "nbformat_minor": 5
}
