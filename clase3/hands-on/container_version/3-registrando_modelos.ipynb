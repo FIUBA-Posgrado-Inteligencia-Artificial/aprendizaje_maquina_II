{
 "cells": [
  {
   "cell_type": "code",
   "execution_count": null,
   "id": "e766c21da279c171",
   "metadata": {
    "ExecuteTime": {
     "end_time": "2024-04-20T18:10:08.792263Z",
     "start_time": "2024-04-20T18:10:08.257130Z"
    },
    "collapsed": false,
    "jupyter": {
     "outputs_hidden": false
    }
   },
   "outputs": [
    {
     "name": "stdout",
     "output_type": "stream",
     "text": [
      "env: AWS_ACCESS_KEY_ID=minio\n",
      "env: AWS_SECRET_ACCESS_KEY=minio123\n",
      "env: MLFLOW_S3_ENDPOINT_URL=http://localhost:9000\n",
      "env: AWS_ENDPOINT_URL_S3=http://localhost:9000\n"
     ]
    }
   ],
   "source": [
    "import mlflow\n",
    "\n",
    "# Para que funcione, todos nuestros scripts debemos exportar las siguientes variables de entorno\n",
    "%env AWS_ACCESS_KEY_ID=minio   \n",
    "%env AWS_SECRET_ACCESS_KEY=minio123 \n",
    "%env MLFLOW_S3_ENDPOINT_URL=http://localhost:9000\n",
    "%env AWS_ENDPOINT_URL_S3=http://localhost:9000"
   ]
  },
  {
   "cell_type": "code",
   "execution_count": 2,
   "id": "d12e83910db1d6e2",
   "metadata": {
    "ExecuteTime": {
     "end_time": "2024-04-20T18:10:09.156884Z",
     "start_time": "2024-04-20T18:10:08.793349Z"
    },
    "collapsed": false,
    "jupyter": {
     "outputs_hidden": false
    }
   },
   "outputs": [
    {
     "name": "stdout",
     "output_type": "stream",
     "text": [
      "minio\n",
      "minio123\n",
      "http://localhost:9000\n"
     ]
    }
   ],
   "source": [
    "!echo $AWS_ACCESS_KEY_ID\n",
    "!echo $AWS_SECRET_ACCESS_KEY\n",
    "!echo $MLFLOW_S3_ENDPOINT_URL"
   ]
  },
  {
   "cell_type": "markdown",
   "id": "8aaf335d5d202a7c",
   "metadata": {
    "collapsed": false,
    "jupyter": {
     "outputs_hidden": false
    }
   },
   "source": [
    "# MLFlow\n",
    "\n",
    "## MLFlow Model\n",
    "\n",
    "### Registrar un modelo\n",
    "\n",
    "Una vez que hemos subido un modelo a MLFlow, ponerlo en producción es un proceso sencillo. Para ello, nos dirigimos a la pestaña Artifacts del modelo que deseamos implementar. Allí, hacemos clic en el botón *Register Model*, lo que registrará el modelo en el sistema. También podemos hacerlo desde el código, algo que normalmente haríamos en el mismo script o notebook donde entrenamos el modelo.\n",
    "\n",
    "Primero, creamos el registro:"
   ]
  },
  {
   "cell_type": "code",
   "execution_count": 11,
   "id": "82380e5f",
   "metadata": {},
   "outputs": [],
   "source": [
    "mlflow.set_tracking_uri('http://localhost:5001')\n",
    "\n",
    "client = mlflow.MlflowClient()\n",
    "name = \"iris_model_prod\"\n",
    "desc = \"This classifier detects if the type of the iris plant\"\n",
    "\n",
    "# Creamos el modelo productivo\n",
    "registered_model = client.create_registered_model(name=name, description=desc)"
   ]
  },
  {
   "cell_type": "markdown",
   "id": "c42331ca",
   "metadata": {},
   "source": [
    "### Selección del modelo\n",
    "\n",
    "Ahora vamos a cargar dos modelos: Regresión Logística y Random Forest. Evaluamos cuál es el mejor y registramos ambos, asignando a uno el tag `champion`, simulando un caso en el que reemplazamos el modelo anterior por uno nuevo."
   ]
  },
  {
   "cell_type": "code",
   "execution_count": 13,
   "id": "4267325a",
   "metadata": {},
   "outputs": [],
   "source": [
    "# Traemos el experimento\n",
    "experiment_name = \"experiment_iris\"\n",
    "experiment = mlflow.get_experiment_by_name(experiment_name)"
   ]
  },
  {
   "cell_type": "markdown",
   "id": "a71b2a8f",
   "metadata": {},
   "source": [
    "Primero obtenemos las URIs de los modelos y los descargamos para evaluarlos:"
   ]
  },
  {
   "cell_type": "code",
   "execution_count": 19,
   "id": "57aa9e42",
   "metadata": {},
   "outputs": [
    {
     "data": {
      "application/vnd.jupyter.widget-view+json": {
       "model_id": "e99622cd119340a2a20f053e2aa6f09d",
       "version_major": 2,
       "version_minor": 0
      },
      "text/plain": [
       "Downloading artifacts:   0%|          | 0/7 [00:00<?, ?it/s]"
      ]
     },
     "metadata": {},
     "output_type": "display_data"
    }
   ],
   "source": [
    "# Traemos la regresión logistica\n",
    "model_name_lf = 'iris_lr'\n",
    "run_name_lf = \"logistic_regression_exp\"\n",
    "runs_lf_df = mlflow.search_runs(\n",
    "            experiment_ids=experiment.experiment_id,\n",
    "            filter_string=f\"tags.mlflow.runName = '{run_name_lf}'\"   \n",
    "        )\n",
    "\n",
    "run_lr_id = runs_lf_df['run_id'].iloc[0]\n",
    "lr_uri = f\"runs:/{run_lr_id}/{model_name_lf}\" \n",
    "\n",
    "# Cargamos el modelo usando el modulo de scikit-learn\n",
    "lr_model = mlflow.sklearn.load_model(lr_uri)"
   ]
  },
  {
   "cell_type": "code",
   "execution_count": 20,
   "id": "f01f98ea",
   "metadata": {},
   "outputs": [
    {
     "data": {
      "application/vnd.jupyter.widget-view+json": {
       "model_id": "d1d83ad1c14d4de385d697c315a868a7",
       "version_major": 2,
       "version_minor": 0
      },
      "text/plain": [
       "Downloading artifacts:   0%|          | 0/5 [00:00<?, ?it/s]"
      ]
     },
     "metadata": {},
     "output_type": "display_data"
    }
   ],
   "source": [
    "# Traemos a random forest\n",
    "model_name_rf = 'model'\n",
    "run_name_rf = \"random_forest_training\"\n",
    "runs_rf_df = mlflow.search_runs(\n",
    "            experiment_ids=experiment.experiment_id,\n",
    "            filter_string=f\"tags.mlflow.runName = '{run_name_rf}'\"   \n",
    "        )\n",
    "\n",
    "run_rf_id = runs_rf_df['run_id'].iloc[0]\n",
    "rf_uri = f\"runs:/{run_rf_id}/{model_name_rf}\" \n",
    "\n",
    "# Cargamos el modelo usando el modulo de scikit-learn\n",
    "rf_model = mlflow.sklearn.load_model(rf_uri)"
   ]
  },
  {
   "cell_type": "markdown",
   "id": "b7a37cb3",
   "metadata": {},
   "source": [
    "Luego registramos ambos modelos:"
   ]
  },
  {
   "cell_type": "code",
   "execution_count": 26,
   "id": "00905856",
   "metadata": {},
   "outputs": [
    {
     "name": "stderr",
     "output_type": "stream",
     "text": [
      "2025/07/12 19:48:05 INFO mlflow.store.model_registry.abstract_store: Waiting up to 300 seconds for model version to finish creation. Model name: iris_model_prod, version 1\n"
     ]
    }
   ],
   "source": [
    "result_lr = client.create_model_version(\n",
    "    name=name,\n",
    "    source=lr_uri,\n",
    "    run_id=run_lr_id,\n",
    "    description=\"Regresion logistica\"\n",
    ")"
   ]
  },
  {
   "cell_type": "code",
   "execution_count": 27,
   "id": "f176c8bd",
   "metadata": {},
   "outputs": [
    {
     "name": "stderr",
     "output_type": "stream",
     "text": [
      "2025/07/12 19:48:08 INFO mlflow.store.model_registry.abstract_store: Waiting up to 300 seconds for model version to finish creation. Model name: iris_model_prod, version 2\n"
     ]
    }
   ],
   "source": [
    "result_rf = client.create_model_version(\n",
    "    name=name,\n",
    "    source=rf_uri,\n",
    "    run_id=run_rf_id,\n",
    "    description=\"Random Forest\"\n",
    ")"
   ]
  },
  {
   "cell_type": "markdown",
   "id": "6c5cf6d9",
   "metadata": {},
   "source": [
    "A continuación, simulamos el caso en el que el modelo de Random Forest es el actual `champion`:"
   ]
  },
  {
   "cell_type": "code",
   "execution_count": 28,
   "id": "338de17c",
   "metadata": {},
   "outputs": [],
   "source": [
    "client.set_registered_model_alias(name, \"champion\", result_rf.version)"
   ]
  },
  {
   "cell_type": "markdown",
   "id": "1f7656b6",
   "metadata": {},
   "source": [
    "Verificamos que podemos usar este modelo para hacer predicciones:"
   ]
  },
  {
   "cell_type": "code",
   "execution_count": 47,
   "id": "b4aeaa1b",
   "metadata": {},
   "outputs": [
    {
     "data": {
      "application/vnd.jupyter.widget-view+json": {
       "model_id": "b8420362d37e41b09730a9583ff3711c",
       "version_major": 2,
       "version_minor": 0
      },
      "text/plain": [
       "Downloading artifacts:   0%|          | 0/5 [00:00<?, ?it/s]"
      ]
     },
     "metadata": {},
     "output_type": "display_data"
    },
    {
     "name": "stdout",
     "output_type": "stream",
     "text": [
      "[1]\n",
      "<class 'sklearn.ensemble._forest.RandomForestClassifier'>\n"
     ]
    }
   ],
   "source": [
    "model_champion = client.get_model_version_by_alias(name, \"champion\")\n",
    "model_ml = mlflow.sklearn.load_model(model_champion.source)\n",
    "\n",
    "print(model_ml.predict([[2.3, 2.2]]))\n",
    "print(type(model_ml))"
   ]
  },
  {
   "cell_type": "markdown",
   "id": "dd4709f9",
   "metadata": {},
   "source": [
    "Después obtenemos al modelo challenger. Esto se puede hacer de dos maneras:\n",
    "\n",
    "- Obteniendo directamente la versión del modelo:"
   ]
  },
  {
   "cell_type": "code",
   "execution_count": 48,
   "id": "018ed125",
   "metadata": {},
   "outputs": [
    {
     "data": {
      "application/vnd.jupyter.widget-view+json": {
       "model_id": "d32f4576f6c7447f8836e3a190725330",
       "version_major": 2,
       "version_minor": 0
      },
      "text/plain": [
       "Downloading artifacts:   0%|          | 0/7 [00:00<?, ?it/s]"
      ]
     },
     "metadata": {},
     "output_type": "display_data"
    },
    {
     "name": "stdout",
     "output_type": "stream",
     "text": [
      "[0]\n",
      "<class 'sklearn.linear_model._logistic.LogisticRegression'>\n"
     ]
    }
   ],
   "source": [
    "challenger_uri = client.get_model_version_download_uri(name, \"1\")\n",
    "model_challenger = mlflow.sklearn.load_model(challenger_uri)\n",
    "\n",
    "print(model_challenger.predict([[2.3, 2.2]]))\n",
    "print(type(model_challenger))"
   ]
  },
  {
   "cell_type": "markdown",
   "id": "9155dc6c",
   "metadata": {},
   "source": [
    "- Asignando un alias (por ejemplo, `challenger`) para facilitar la integración:"
   ]
  },
  {
   "cell_type": "code",
   "execution_count": 42,
   "id": "ecd8e43c",
   "metadata": {},
   "outputs": [],
   "source": [
    "client.set_registered_model_alias(name, \"challenger\", result_lr.version)"
   ]
  },
  {
   "cell_type": "code",
   "execution_count": 49,
   "id": "0a0b0f9c",
   "metadata": {},
   "outputs": [
    {
     "data": {
      "application/vnd.jupyter.widget-view+json": {
       "model_id": "f5b2e1b1eaa841a2ac80f6d07a6c3eae",
       "version_major": 2,
       "version_minor": 0
      },
      "text/plain": [
       "Downloading artifacts:   0%|          | 0/7 [00:00<?, ?it/s]"
      ]
     },
     "metadata": {},
     "output_type": "display_data"
    },
    {
     "name": "stdout",
     "output_type": "stream",
     "text": [
      "[0]\n",
      "<class 'sklearn.linear_model._logistic.LogisticRegression'>\n"
     ]
    }
   ],
   "source": [
    "model_challenger = client.get_model_version_by_alias(name, \"challenger\")\n",
    "model_ch_ml = mlflow.sklearn.load_model(model_challenger.source)\n",
    "\n",
    "print(model_ch_ml.predict([[2.3, 2.2]]))\n",
    "print(type(model_ch_ml))"
   ]
  },
  {
   "cell_type": "markdown",
   "id": "8258397b",
   "metadata": {},
   "source": [
    "Con ambos modelos entrenados, calculamos la accuracy y determinamos cuál fue el mejor:"
   ]
  },
  {
   "cell_type": "code",
   "execution_count": 51,
   "id": "d4dba156",
   "metadata": {},
   "outputs": [
    {
     "name": "stdout",
     "output_type": "stream",
     "text": [
      "El accuracy de la Regresión Logistica es: 0.9\n",
      "El accuracy de Random Forest es: 0.7\n",
      "El challenger tiene mejores métricas que el modelo de anterior, promocionemos al nuevo champion...\n"
     ]
    }
   ],
   "source": [
    "from sklearn.datasets import load_iris\n",
    "from sklearn.model_selection import train_test_split\n",
    "from sklearn.metrics import accuracy_score\n",
    "\n",
    "# Cargamos los datos\n",
    "data = load_iris()\n",
    "\n",
    "# Separamos entre evaluación y testeo\n",
    "X_train, X_test, y_train, y_test = train_test_split(data['data'][:, :2], data['target'], test_size=0.2, random_state=42)\n",
    "\n",
    "# Predecimos con los modelos\n",
    "y_pred_rf = model_ml.predict(X_test)\n",
    "y_pred_lr = model_ch_ml.predict(X_test)\n",
    "\n",
    "# Se calculan las métricas\n",
    "accuracy_rf = accuracy_score(y_test, y_pred_rf)\n",
    "accuracy_lr = accuracy_score(y_test, y_pred_lr)\n",
    "\n",
    "print(\"El accuracy de la Regresión Logistica es:\", accuracy_lr)\n",
    "print(\"El accuracy de Random Forest es:\", accuracy_rf)\n",
    "\n",
    "if accuracy_lr > accuracy_rf:\n",
    "    print(\"El challenger tiene mejores métricas que el modelo de anterior, promocionemos al nuevo champion...\")\n",
    "    client.delete_registered_model_alias(name, \"challenger\")\n",
    "    client.set_registered_model_alias(name, \"champion\", result_lr.version)\n",
    "\n",
    "    # Este tags nos puede servir si tenemos un bug y debemos hacer un rollback\n",
    "    client.set_registered_model_alias(name, \"old_champion\", result_rf.version)\n"
   ]
  },
  {
   "cell_type": "markdown",
   "id": "3c2ae70d",
   "metadata": {},
   "source": [
    "Una vez que identificamos al nuevo champion, si lo descargamos, veremos que corresponde al modelo actualizado:"
   ]
  },
  {
   "cell_type": "code",
   "execution_count": 52,
   "id": "f6a507d3",
   "metadata": {},
   "outputs": [
    {
     "data": {
      "application/vnd.jupyter.widget-view+json": {
       "model_id": "0db69f96f06441deab4c4d8d534e5d61",
       "version_major": 2,
       "version_minor": 0
      },
      "text/plain": [
       "Downloading artifacts:   0%|          | 0/7 [00:00<?, ?it/s]"
      ]
     },
     "metadata": {},
     "output_type": "display_data"
    },
    {
     "name": "stdout",
     "output_type": "stream",
     "text": [
      "[0]\n",
      "<class 'sklearn.linear_model._logistic.LogisticRegression'>\n"
     ]
    }
   ],
   "source": [
    "model_champion = client.get_model_version_by_alias(name, \"champion\")\n",
    "model_ml = mlflow.sklearn.load_model(model_champion.source)\n",
    "\n",
    "print(model_ml.predict([[2.3, 2.2]]))\n",
    "print(type(model_ml))"
   ]
  },
  {
   "cell_type": "markdown",
   "id": "961752d5",
   "metadata": {},
   "source": [
    "Esta no es la única forma de desplegar modelos. Un segundo enfoque permite el despliegue de un modelo mediante una API REST. Este proceso queda fuera del alcance de este hands-on, pero podés consultar más información en la [documentación oficial de MLFlow](https://mlflow.org/docs/latest/deployment/index.html).\n",
    "\n",
    "Si querés ver más aplicaciones, podés consultar la notebook del repositorio del proyecto final: [Ejemplo de aplicación](https://github.com/facundolucianna/amq2-service-ml/tree/example_implementation)."
   ]
  }
 ],
 "metadata": {
  "kernelspec": {
   "display_name": "aprendizaje-maquina-ii",
   "language": "python",
   "name": "python3"
  },
  "language_info": {
   "codemirror_mode": {
    "name": "ipython",
    "version": 3
   },
   "file_extension": ".py",
   "mimetype": "text/x-python",
   "name": "python",
   "nbconvert_exporter": "python",
   "pygments_lexer": "ipython3",
   "version": "3.11.12"
  }
 },
 "nbformat": 4,
 "nbformat_minor": 5
}
