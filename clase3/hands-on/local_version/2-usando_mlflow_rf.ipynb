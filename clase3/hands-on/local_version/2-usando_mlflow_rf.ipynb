{
 "cells": [
  {
   "cell_type": "code",
   "execution_count": 1,
   "id": "eb5ff88ab0258ddf",
   "metadata": {
    "ExecuteTime": {
     "end_time": "2024-04-20T18:10:08.255959Z",
     "start_time": "2024-04-20T18:10:07.050518Z"
    },
    "collapsed": false,
    "jupyter": {
     "outputs_hidden": false
    }
   },
   "outputs": [],
   "source": [
    "import pandas as pd\n",
    "import mlflow \n",
    "\n",
    "from plots import plot_confusion_matrix, plot_roc_curve"
   ]
  },
  {
   "cell_type": "markdown",
   "id": "8aaf335d5d202a7c",
   "metadata": {
    "collapsed": false,
    "jupyter": {
     "outputs_hidden": false
    }
   },
   "source": [
    "# MLFlow\n",
    "\n",
    "## MLFlow Tracking\n",
    "\n",
    "### Más conceptos sobre MLFlow Tracking\n",
    "\n",
    "En esta notebook, haremos uso de otra característica muy útil: `mlflow.autolog()`. Esta función registra automáticamente información esencial durante el entrenamiento y la evaluación del modelo, evitando la necesidad de especificar manualmente qué elementos rastrear. Está implementada para varias de las principales librerías de machine learning, y la utilizaremos específicamente con Scikit-Learn.\n",
    "\n",
    "Entre las cosas que `autolog()` registra automáticamente se encuentran:\n",
    "\n",
    "- **Parámetros**: Los hiperparámetros utilizados para entrenar el modelo (por ejemplo, n_estimators, max_depth en un RandomForest).\n",
    "- **Métricas**: Métricas de evaluación calculadas durante el entrenamiento o el testeo (por ejemplo, accuracy, precision, recall, F1-score, RMSE, R2).\n",
    "- **Modelos**: El modelo entrenado en sí, lo que permite cargarlo y reutilizarlo fácilmente más adelante para hacer predicciones.\n",
    "- **Artefactos**: Otros archivos relevantes, como gráficos (por ejemplo, curvas ROC, matrices de confusión) o resúmenes de datos importantes.\n",
    "- **Código fuente**: El script que ejecutó el entrenamiento, lo cual facilita la reproducibilidad.\n",
    "- **Entorno**: Información sobre el entorno de software, incluidas las versiones de las librerías, para ayudar a reproducir los resultados.\n",
    "\n",
    "Se utiliza de la siguiente manera, y debe invocarse antes de comenzar el entrenamiento:\n",
    "\n",
    "```python\n",
    "mlflow.sklearn.autolog()\n",
    "```"
   ]
  },
  {
   "cell_type": "markdown",
   "id": "83aa3ef357c4e67e",
   "metadata": {
    "collapsed": false,
    "jupyter": {
     "outputs_hidden": false
    }
   },
   "source": [
    "### Uso de MLFlow con un ejemplo: Iris Dataset y Random Forest\n",
    "\n",
    "Vamos a emplear MLFlow para entrenar dos modelos utilizando el conjunto de datos Iris. Los modelos serán Logistic Regression y Random Forest, ambos de la librería Scikit-Learn. En esta notebook, nos enfocaremos en el modelo de Random Forest."
   ]
  },
  {
   "cell_type": "code",
   "execution_count": 2,
   "id": "57f97ec35d3b9c42",
   "metadata": {
    "ExecuteTime": {
     "end_time": "2024-04-20T18:10:12.508818Z",
     "start_time": "2024-04-20T18:10:12.284064Z"
    },
    "collapsed": false,
    "jupyter": {
     "outputs_hidden": false
    }
   },
   "outputs": [],
   "source": [
    "from sklearn.datasets import load_iris\n",
    "from sklearn.model_selection import GridSearchCV, train_test_split\n",
    "from sklearn.ensemble import RandomForestClassifier\n",
    "from sklearn.metrics import precision_score, accuracy_score, recall_score"
   ]
  },
  {
   "cell_type": "code",
   "execution_count": 3,
   "id": "e91006a6",
   "metadata": {},
   "outputs": [],
   "source": [
    "mlflow.set_tracking_uri('http://localhost:8888')"
   ]
  },
  {
   "cell_type": "code",
   "execution_count": 4,
   "id": "54e00756039b40b",
   "metadata": {
    "ExecuteTime": {
     "end_time": "2024-04-20T18:10:13.649789Z",
     "start_time": "2024-04-20T18:10:13.617786Z"
    },
    "collapsed": false,
    "jupyter": {
     "outputs_hidden": false
    }
   },
   "outputs": [],
   "source": [
    "experiment_name = \"experiment_iris\"\n",
    "\n",
    "if not mlflow.get_experiment_by_name(experiment_name):\n",
    "    mlflow.create_experiment(name=experiment_name, \n",
    "                             tags={\"project\":\"iris-dataset\", \n",
    "                                   \"team\": \"mlops1-fiuba\"}) \n",
    "\n",
    "experiment = mlflow.get_experiment_by_name(experiment_name)"
   ]
  },
  {
   "cell_type": "code",
   "execution_count": 5,
   "id": "8e373cc2",
   "metadata": {},
   "outputs": [],
   "source": [
    "# Cargamos los datos\n",
    "data = load_iris()\n",
    "\n",
    "# Separamos entre evaluación y testeo\n",
    "X_train, X_test, y_train, y_test = train_test_split(data['data'][:, :2], data['target'], test_size=0.2, random_state=42)"
   ]
  },
  {
   "cell_type": "markdown",
   "id": "c15c516a",
   "metadata": {},
   "source": [
    "### Búsqueda de hiperparámetros\n",
    "\n",
    "Aquí realizaremos la búsqueda de hiperparámetros para optimizar el rendimiento del modelo."
   ]
  },
  {
   "cell_type": "code",
   "execution_count": 6,
   "id": "14b79be0",
   "metadata": {},
   "outputs": [
    {
     "name": "stderr",
     "output_type": "stream",
     "text": [
      "2025/07/12 20:55:06 WARNING mlflow.utils.autologging_utils: MLflow sklearn autologging is known to be compatible with 0.24.1 <= scikit-learn <= 1.6.1, but the installed version is 1.7.0. If you encounter errors during autologging, try upgrading / downgrading scikit-learn to a compatible version, or try upgrading MLflow.\n"
     ]
    }
   ],
   "source": [
    "# Habilitamos el autologging para scikit-learn\n",
    "mlflow.sklearn.autolog()\n",
    "\n",
    "run_name = \"random_forest_hyper_search\""
   ]
  },
  {
   "cell_type": "code",
   "execution_count": 7,
   "id": "b1a939e2",
   "metadata": {},
   "outputs": [
    {
     "name": "stderr",
     "output_type": "stream",
     "text": [
      "2025/07/12 20:55:36 WARNING mlflow.utils.environment: Failed to resolve installed pip version. ``pip`` will be added to conda.yaml environment spec without a version specifier.\n",
      "2025/07/12 20:55:38 WARNING mlflow.utils.environment: Failed to resolve installed pip version. ``pip`` will be added to conda.yaml environment spec without a version specifier.\n",
      "2025/07/12 20:55:38 INFO mlflow.sklearn.utils: Logging the 5 best runs, 91 runs will be omitted.\n"
     ]
    },
    {
     "name": "stdout",
     "output_type": "stream",
     "text": [
      "🏃 View run serious-conch-581 at: http://localhost:8888/#/experiments/302891218595240518/runs/282b2472f1404e039ef09ed1b16e7c55\n",
      "🧪 View experiment at: http://localhost:8888/#/experiments/302891218595240518\n",
      "🏃 View run capricious-moose-830 at: http://localhost:8888/#/experiments/302891218595240518/runs/a268aac473a9458286231e9b74928064\n",
      "🧪 View experiment at: http://localhost:8888/#/experiments/302891218595240518\n",
      "🏃 View run useful-cod-724 at: http://localhost:8888/#/experiments/302891218595240518/runs/f39276e2650f47ff9459ec68aa62eb1c\n",
      "🧪 View experiment at: http://localhost:8888/#/experiments/302891218595240518\n",
      "🏃 View run blushing-eel-49 at: http://localhost:8888/#/experiments/302891218595240518/runs/e9d6e575004d48a7b36609b87784f9eb\n",
      "🧪 View experiment at: http://localhost:8888/#/experiments/302891218595240518\n",
      "🏃 View run victorious-quail-328 at: http://localhost:8888/#/experiments/302891218595240518/runs/778c41661a2347079a81b8edd99852d2\n",
      "🧪 View experiment at: http://localhost:8888/#/experiments/302891218595240518\n",
      "Los mejores parámetros son: {'max_depth': 10, 'max_features': 3, 'min_samples_leaf': 4, 'min_samples_split': 3}\n",
      "🏃 View run random_forest_hyper_search at: http://localhost:8888/#/experiments/302891218595240518/runs/cfccc9570b084fa889e6f3cdff289388\n",
      "🧪 View experiment at: http://localhost:8888/#/experiments/302891218595240518\n"
     ]
    }
   ],
   "source": [
    "# Iniciamos un run de MLflow\n",
    "with mlflow.start_run(experiment_id = experiment.experiment_id, \n",
    "                      run_name=run_name,\n",
    "                      tags={\"model\":\"random_forest\"}):\n",
    "    model = RandomForestClassifier()\n",
    "\n",
    "    # Definimos los hiperparámetros para la búsqueda\n",
    "    grid = {\n",
    "        'max_depth':[6,8,10], \n",
    "        'min_samples_split':[2,3,4,5],\n",
    "        'min_samples_leaf':[2,3,4,5],\n",
    "        'max_features': [2,3]\n",
    "        }\n",
    "\n",
    "    # Hacemos la búsqueda\n",
    "    iris_grid = GridSearchCV(model, grid, cv=5) \n",
    "    iris_grid_results = iris_grid.fit(X_train, y_train)\n",
    "\n",
    "    print(f'Los mejores parámetros son: {iris_grid_results.best_params_}')"
   ]
  },
  {
   "cell_type": "markdown",
   "id": "d0632f2c",
   "metadata": {},
   "source": [
    "### Entrenamiento del modelo Random Forest\n",
    "\n",
    "Una vez realizada la búsqueda de hiperparámetros, registramos los datos del mejor modelo encontrado."
   ]
  },
  {
   "cell_type": "code",
   "execution_count": 8,
   "id": "540bfb2e",
   "metadata": {},
   "outputs": [
    {
     "name": "stderr",
     "output_type": "stream",
     "text": [
      "2025/07/12 20:55:38 WARNING mlflow.utils.autologging_utils: MLflow sklearn autologging is known to be compatible with 0.24.1 <= scikit-learn <= 1.6.1, but the installed version is 1.7.0. If you encounter errors during autologging, try upgrading / downgrading scikit-learn to a compatible version, or try upgrading MLflow.\n"
     ]
    }
   ],
   "source": [
    "# Habilitamos el autologging para scikit-learn\n",
    "run_name = \"random_forest_training\"\n",
    "\n",
    "mlflow.sklearn.autolog()"
   ]
  },
  {
   "cell_type": "code",
   "execution_count": 9,
   "id": "5d31a9ba",
   "metadata": {},
   "outputs": [
    {
     "name": "stderr",
     "output_type": "stream",
     "text": [
      "2025/07/12 20:55:40 WARNING mlflow.utils.environment: Failed to resolve installed pip version. ``pip`` will be added to conda.yaml environment spec without a version specifier.\n"
     ]
    },
    {
     "name": "stdout",
     "output_type": "stream",
     "text": [
      "Accuracy: 0.7666666666666667\n",
      "Precision: 0.7799999999999999\n",
      "Recall: 0.7666666666666667\n",
      "🏃 View run random_forest_training at: http://localhost:8888/#/experiments/302891218595240518/runs/80368fa6089043e9ac94c7b9a0882be7\n",
      "🧪 View experiment at: http://localhost:8888/#/experiments/302891218595240518\n"
     ]
    }
   ],
   "source": [
    "# Iniciamos un run de MLflow\n",
    "with mlflow.start_run(experiment_id = experiment.experiment_id, \n",
    "                      run_name=run_name,\n",
    "                      tags={\"model\":\"random_forest\"}):\n",
    "    \n",
    "    # Usamos los mejores parámetros\n",
    "    model = RandomForestClassifier(**iris_grid_results.best_params_)\n",
    "\n",
    "    # Entrenamos el modelo\n",
    "    model.fit(X_train, y_train)\n",
    "\n",
    "    # Obtenemos la prediccion del set de evaluación\n",
    "    y_pred = model.predict(X_test)\n",
    "\n",
    "    # Se calculan las métricas\n",
    "    accuracy = accuracy_score(y_test, y_pred)\n",
    "    precision = precision_score(y_test, y_pred, average='weighted')\n",
    "    recall = recall_score(y_test, y_pred, average='weighted')\n",
    "    print(f'Accuracy: {accuracy}')\n",
    "    print(f'Precision: {precision}')\n",
    "    print(f'Recall: {recall}')\n",
    "\n",
    "    # Como artefactos, obtenemos las gráficas de la curva ROC y la matriz de confusion\n",
    "    matrix_plot = plot_confusion_matrix(y_test, y_pred, save_path=None)\n",
    "    roc_plots = plot_roc_curve(y_test, model.predict_proba(X_test), save_path=None)\n",
    "\n",
    "    # Podemos loggear lo que autolog no hace automaticomente\n",
    "    metrics ={\n",
    "        'accuracy': accuracy,\n",
    "        'precision': precision, \n",
    "        'recall': recall \n",
    "        }\n",
    "    \n",
    "    mlflow.log_metrics(metrics)\n",
    "\n",
    "    matrix_plot = plot_confusion_matrix(y_test, y_pred, save_path=None)\n",
    "    roc_plots = plot_roc_curve(y_test, model.predict_proba(X_test), save_path=None)\n",
    "\n",
    "    mlflow.log_figure(matrix_plot, artifact_file=\"matrix_plot.png\")\n",
    "    mlflow.log_figure(roc_plots[0], artifact_file=\"roc_curve_1_plot.png\")\n",
    "    mlflow.log_figure(roc_plots[1], artifact_file=\"roc_curve_2_plot.png\")\n",
    "    mlflow.log_figure(roc_plots[2], artifact_file=\"roc_curve_3_plot.png\")"
   ]
  },
  {
   "cell_type": "markdown",
   "id": "2fe75edcc127c8fe",
   "metadata": {
    "collapsed": false,
    "jupyter": {
     "outputs_hidden": false
    }
   },
   "source": [
    "#### Realizar predicciones con un modelo de MLFlow\n",
    "\n",
    "Para obtener predicciones, debemos ir al apartado de *Artifacts*, donde MLFlow indica cómo realizar inferencias con el modelo, ya sea utilizando Spark o Python. Copiamos ese fragmento de código y lo ejecutamos, proporcionando los datos que deseamos predecir."
   ]
  },
  {
   "cell_type": "code",
   "execution_count": 10,
   "id": "765c02cc",
   "metadata": {},
   "outputs": [
    {
     "data": {
      "application/vnd.jupyter.widget-view+json": {
       "model_id": "b60dd9814ead40788b413fbaa40dc57c",
       "version_major": 2,
       "version_minor": 0
      },
      "text/plain": [
       "Downloading artifacts:   0%|          | 0/5 [00:00<?, ?it/s]"
      ]
     },
     "metadata": {},
     "output_type": "display_data"
    },
    {
     "data": {
      "text/plain": [
       "array([1, 0, 2, 1, 2, 0, 1, 2, 1, 2, 2, 0, 1, 0, 0, 2, 2, 1, 1, 2, 0, 1,\n",
       "       0, 2, 2, 1, 1, 2, 0, 0])"
      ]
     },
     "execution_count": 10,
     "metadata": {},
     "output_type": "execute_result"
    }
   ],
   "source": [
    "runs_df = mlflow.search_runs(\n",
    "            experiment_ids=experiment.experiment_id,\n",
    "            filter_string=f\"tags.mlflow.runName = '{run_name}'\"   \n",
    "        )\n",
    "\n",
    "run_id = runs_df[\"run_id\"].iloc[0]\n",
    "model_uri = f\"runs:/{runs_df['run_id'].iloc[0]}/model\" \n",
    "\n",
    "# Cargamos el modelo usando el modulo de scikit-learn\n",
    "loaded_model = mlflow.sklearn.load_model(model_uri)\n",
    "\n",
    "# Predecimos usando un dataframe de Pandas\n",
    "loaded_model.predict(pd.DataFrame(X_test))"
   ]
  },
  {
   "cell_type": "code",
   "execution_count": null,
   "id": "7bd90a96",
   "metadata": {},
   "outputs": [],
   "source": []
  }
 ],
 "metadata": {
  "kernelspec": {
   "display_name": "aprendizaje-maquina-ii",
   "language": "python",
   "name": "python3"
  },
  "language_info": {
   "codemirror_mode": {
    "name": "ipython",
    "version": 3
   },
   "file_extension": ".py",
   "mimetype": "text/x-python",
   "name": "python",
   "nbconvert_exporter": "python",
   "pygments_lexer": "ipython3",
   "version": "3.11.12"
  }
 },
 "nbformat": 4,
 "nbformat_minor": 5
}
