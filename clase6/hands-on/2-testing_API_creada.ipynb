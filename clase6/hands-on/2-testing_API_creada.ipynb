{
 "cells": [
  {
   "cell_type": "code",
   "execution_count": 1,
   "id": "initial_id",
   "metadata": {
    "ExecuteTime": {
     "end_time": "2024-04-06T06:33:21.175586Z",
     "start_time": "2024-04-06T06:33:21.123295Z"
    }
   },
   "outputs": [],
   "source": [
    "import requests"
   ]
  },
  {
   "cell_type": "markdown",
   "id": "fa2f52ed1070295b",
   "metadata": {
    "collapsed": false,
    "jupyter": {
     "outputs_hidden": false
    }
   },
   "source": [
    "# Testeamos la API que creamos\n",
    "### Aprendizaje Automático II - CEIA - FIUBA \n",
    "\n",
    "En esta notebook testeamos la API del modelo que hicimos usando [FastAPI](https://fastapi.tiangolo.com/).\n",
    "\n",
    "## main_1\n",
    "\n",
    "Empezamos con la implementación más simple, debemos ejecutar:\n",
    "\n",
    "```Bash\n",
    "uvicorn main_1:app --host 0.0.0.0 --port 80\n",
    "```\n",
    "\n",
    "Usemos `requests` para obtener las respuesta del modelo, en esta implementación, los features van como parámetros de consulta:"
   ]
  },
  {
   "cell_type": "code",
   "execution_count": 2,
   "id": "46c2106e5022514e",
   "metadata": {
    "ExecuteTime": {
     "end_time": "2024-04-06T00:22:19.333317Z",
     "start_time": "2024-04-06T00:22:18.922686Z"
    },
    "collapsed": false,
    "jupyter": {
     "outputs_hidden": false
    }
   },
   "outputs": [
    {
     "data": {
      "text/plain": [
       "'{\"detail\":[{\"type\":\"missing\",\"loc\":[\"query\",\"size\"],\"msg\":\"Field required\",\"input\":null},{\"type\":\"missing\",\"loc\":[\"query\",\"height\"],\"msg\":\"Field required\",\"input\":null},{\"type\":\"missing\",\"loc\":[\"query\",\"weight\"],\"msg\":\"Field required\",\"input\":null},{\"type\":\"missing\",\"loc\":[\"query\",\"number_of_whiskers\"],\"msg\":\"Field required\",\"input\":null}]}'"
      ]
     },
     "execution_count": 2,
     "metadata": {},
     "output_type": "execute_result"
    }
   ],
   "source": [
    "endpoint_model = \"http://localhost/predict/\"\n",
    "response = requests.post(endpoint_model)\n",
    "response.text"
   ]
  },
  {
   "cell_type": "code",
   "execution_count": 3,
   "id": "cc76bcc4-2ec0-4c0c-8e37-1e8a84465ae2",
   "metadata": {},
   "outputs": [
    {
     "data": {
      "text/plain": [
       "'Unprocessable Entity'"
      ]
     },
     "execution_count": 3,
     "metadata": {},
     "output_type": "execute_result"
    }
   ],
   "source": [
    "response.reason"
   ]
  },
  {
   "cell_type": "markdown",
   "id": "193ab6b4-1db2-48ac-9c47-c7e1b4fa8267",
   "metadata": {},
   "source": [
    "Nos falta pasarle los features:"
   ]
  },
  {
   "cell_type": "code",
   "execution_count": 16,
   "id": "bcdda44a-fb60-43c4-8dda-e0f063b262ec",
   "metadata": {},
   "outputs": [
    {
     "data": {
      "text/plain": [
       "<Response [200]>"
      ]
     },
     "execution_count": 16,
     "metadata": {},
     "output_type": "execute_result"
    }
   ],
   "source": [
    "query_params = {\n",
    "    \"size\": 10.5,\n",
    "    \"height\": 20.3,\n",
    "    \"weight\": 15.7,\n",
    "    \"number_of_whiskers\": 8\n",
    "}\n",
    "\n",
    "response = requests.post(endpoint_model, params=query_params)\n",
    "response"
   ]
  },
  {
   "cell_type": "code",
   "execution_count": 11,
   "id": "f02648e7-b75d-4a65-8064-1d47a8defe9e",
   "metadata": {},
   "outputs": [
    {
     "data": {
      "text/plain": [
       "{'prediction': 'Cat'}"
      ]
     },
     "execution_count": 11,
     "metadata": {},
     "output_type": "execute_result"
    }
   ],
   "source": [
    "response.json()"
   ]
  },
  {
   "cell_type": "markdown",
   "id": "af904a7f-65e6-4c71-9552-3a11d5c4292c",
   "metadata": {},
   "source": [
    "## main_2\n",
    "\n",
    "```Bash\n",
    "uvicorn main_2:app --host 0.0.0.0 --port 80\n",
    "```\n",
    "\n",
    "En este caso, ahora los parámetros van en el cuerpo de la solicitud en un formato JSON. En general, es recomendable a los features del modelo que vayan en el cuerpo."
   ]
  },
  {
   "cell_type": "code",
   "execution_count": 26,
   "id": "03aefcd4-f4b1-4cb4-b181-89ae8f59b553",
   "metadata": {},
   "outputs": [
    {
     "data": {
      "text/plain": [
       "<Response [200]>"
      ]
     },
     "execution_count": 26,
     "metadata": {},
     "output_type": "execute_result"
    }
   ],
   "source": [
    "data = {\n",
    "    \"size\": -10.5,\n",
    "    \"height\": 20.3,\n",
    "    \"weight\": 15.7,\n",
    "    \"number_of_whiskers\": 8\n",
    "}\n",
    "\n",
    "response = requests.post(endpoint_model, json=data)\n",
    "response"
   ]
  },
  {
   "cell_type": "code",
   "execution_count": 27,
   "id": "de590d5a-cd86-4c29-986b-d2b8793eec34",
   "metadata": {},
   "outputs": [
    {
     "data": {
      "text/plain": [
       "{'prediction': 'Dog'}"
      ]
     },
     "execution_count": 27,
     "metadata": {},
     "output_type": "execute_result"
    }
   ],
   "source": [
    "response.json()"
   ]
  },
  {
   "cell_type": "markdown",
   "id": "743a73a9-2ac6-48f5-845f-0f48215724d1",
   "metadata": {},
   "source": [
    "## main_3\n",
    "\n",
    "```Bash\n",
    "uvicorn main_3:app --host 0.0.0.0 --port 80\n",
    "```\n",
    "\n",
    "Ahora usando Pydantic, le dimos restricciones para que no se pueda pasar cualquier valor"
   ]
  },
  {
   "cell_type": "code",
   "execution_count": 28,
   "id": "94227d6a-9d34-4f61-a568-145ee6d81477",
   "metadata": {},
   "outputs": [
    {
     "data": {
      "text/plain": [
       "<Response [422]>"
      ]
     },
     "execution_count": 28,
     "metadata": {},
     "output_type": "execute_result"
    }
   ],
   "source": [
    "data = {\n",
    "    \"size\": -10.5,\n",
    "    \"height\": 20.3,\n",
    "    \"weight\": 15.7,\n",
    "    \"number_of_whiskers\": 8\n",
    "}\n",
    "\n",
    "response = requests.post(endpoint_model, json=data)\n",
    "response"
   ]
  },
  {
   "cell_type": "code",
   "execution_count": 29,
   "id": "035cac26-7d2e-4b68-965c-3d60ade1b48a",
   "metadata": {},
   "outputs": [
    {
     "data": {
      "text/plain": [
       "'Unprocessable Entity'"
      ]
     },
     "execution_count": 29,
     "metadata": {},
     "output_type": "execute_result"
    }
   ],
   "source": [
    "response.reason"
   ]
  },
  {
   "cell_type": "code",
   "execution_count": 30,
   "id": "fcd6cbc4-033f-4fcf-9172-abe139e9f79a",
   "metadata": {},
   "outputs": [
    {
     "data": {
      "text/plain": [
       "{'detail': [{'type': 'greater_than_equal',\n",
       "   'loc': ['body', 'size'],\n",
       "   'msg': 'Input should be greater than or equal to 0',\n",
       "   'input': -10.5,\n",
       "   'ctx': {'ge': 0.0}}]}"
      ]
     },
     "execution_count": 30,
     "metadata": {},
     "output_type": "execute_result"
    }
   ],
   "source": [
    "response.json()"
   ]
  },
  {
   "cell_type": "markdown",
   "id": "145e3f43-c3de-4b12-8a43-964a1dab65e7",
   "metadata": {},
   "source": [
    "Ahora la API controla que los valores tengan un rango de valores apropiados."
   ]
  },
  {
   "cell_type": "code",
   "execution_count": 31,
   "id": "b21547a6-8f58-44aa-9095-bc0635eed9b5",
   "metadata": {},
   "outputs": [
    {
     "data": {
      "text/plain": [
       "<Response [200]>"
      ]
     },
     "execution_count": 31,
     "metadata": {},
     "output_type": "execute_result"
    }
   ],
   "source": [
    "data = {\n",
    "    \"size\": 10.5,\n",
    "    \"height\": 20.3,\n",
    "    \"weight\": 15.7,\n",
    "    \"number_of_whiskers\": 8\n",
    "}\n",
    "\n",
    "response = requests.post(endpoint_model, json=data)\n",
    "response"
   ]
  },
  {
   "cell_type": "code",
   "execution_count": 32,
   "id": "fbab09db-b485-4571-aaa4-863b79f6bdc4",
   "metadata": {},
   "outputs": [
    {
     "data": {
      "text/plain": [
       "{'prediction': 'Cat'}"
      ]
     },
     "execution_count": 32,
     "metadata": {},
     "output_type": "execute_result"
    }
   ],
   "source": [
    "response.json()"
   ]
  },
  {
   "cell_type": "markdown",
   "id": "585b2f7d-b740-42d7-bad5-963b8ecb55c3",
   "metadata": {},
   "source": [
    "Ahora agregamos si hacemos GET en la raíz, nos devuelva información de la API"
   ]
  },
  {
   "cell_type": "code",
   "execution_count": 33,
   "id": "5475355e-253e-454f-839c-065d8a69ca29",
   "metadata": {},
   "outputs": [
    {
     "data": {
      "text/plain": [
       "{'name': 'ML Model API',\n",
       " 'description': 'A simple machine learning model API for predicting cats or dogs.',\n",
       " 'version': '1.0'}"
      ]
     },
     "execution_count": 33,
     "metadata": {},
     "output_type": "execute_result"
    }
   ],
   "source": [
    "response = requests.get(\"http://localhost\")\n",
    "response.json()"
   ]
  },
  {
   "cell_type": "markdown",
   "id": "348e53b5-edef-4580-a39b-193a739d6f8c",
   "metadata": {},
   "source": [
    "## main_4\n",
    "\n",
    "```Bash\n",
    "uvicorn main_4:app --host 0.0.0.0 --port 80\n",
    "```\n",
    "\n",
    "Finalmente agregamos un método simple de autenticación:"
   ]
  },
  {
   "cell_type": "code",
   "execution_count": 34,
   "id": "2041e77c-1a99-46a7-9ef1-14d865b6ba16",
   "metadata": {},
   "outputs": [
    {
     "data": {
      "text/plain": [
       "<Response [403]>"
      ]
     },
     "execution_count": 34,
     "metadata": {},
     "output_type": "execute_result"
    }
   ],
   "source": [
    "data = {\n",
    "    \"size\": 10.5,\n",
    "    \"height\": 20.3,\n",
    "    \"weight\": 15.7,\n",
    "    \"number_of_whiskers\": 8\n",
    "}\n",
    "\n",
    "headers = {\n",
    "    \"api-key\": \"bad-key\" \n",
    "}\n",
    "\n",
    "response = requests.post(endpoint_model, json=data, headers=headers)\n",
    "response"
   ]
  },
  {
   "cell_type": "code",
   "execution_count": 35,
   "id": "3ef47db2-51c7-432f-8b20-822c5bc64676",
   "metadata": {},
   "outputs": [
    {
     "data": {
      "text/plain": [
       "'Forbidden'"
      ]
     },
     "execution_count": 35,
     "metadata": {},
     "output_type": "execute_result"
    }
   ],
   "source": [
    "response.reason"
   ]
  },
  {
   "cell_type": "code",
   "execution_count": 36,
   "id": "78dffb7e-f0c5-4d0b-a925-5e251544f465",
   "metadata": {},
   "outputs": [
    {
     "data": {
      "text/plain": [
       "{'detail': 'Invalid API Key'}"
      ]
     },
     "execution_count": 36,
     "metadata": {},
     "output_type": "execute_result"
    }
   ],
   "source": [
    "response.json()"
   ]
  },
  {
   "cell_type": "code",
   "execution_count": 37,
   "id": "533b5680-aa66-40e6-827d-41622a0954c8",
   "metadata": {},
   "outputs": [
    {
     "data": {
      "text/plain": [
       "<Response [200]>"
      ]
     },
     "execution_count": 37,
     "metadata": {},
     "output_type": "execute_result"
    }
   ],
   "source": [
    "data = {\n",
    "    \"size\": 10.5,\n",
    "    \"height\": 20.3,\n",
    "    \"weight\": 15.7,\n",
    "    \"number_of_whiskers\": 8\n",
    "}\n",
    "\n",
    "headers = {\n",
    "    \"api-key\": \"test-key\" \n",
    "}\n",
    "\n",
    "response = requests.post(endpoint_model, json=data, headers=headers)\n",
    "response"
   ]
  },
  {
   "cell_type": "code",
   "execution_count": 38,
   "id": "04c937ec-73ba-4a17-9685-2d2128c1aee3",
   "metadata": {},
   "outputs": [
    {
     "data": {
      "text/plain": [
       "'OK'"
      ]
     },
     "execution_count": 38,
     "metadata": {},
     "output_type": "execute_result"
    }
   ],
   "source": [
    "response.reason"
   ]
  }
 ],
 "metadata": {
  "kernelspec": {
   "display_name": "aprendizaje-maquina-ii",
   "language": "python",
   "name": "python3"
  },
  "language_info": {
   "codemirror_mode": {
    "name": "ipython",
    "version": 3
   },
   "file_extension": ".py",
   "mimetype": "text/x-python",
   "name": "python",
   "nbconvert_exporter": "python",
   "pygments_lexer": "ipython3",
   "version": "3.11.12"
  }
 },
 "nbformat": 4,
 "nbformat_minor": 5
}
