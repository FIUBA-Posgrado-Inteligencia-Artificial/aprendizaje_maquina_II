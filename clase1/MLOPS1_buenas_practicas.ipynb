{
 "cells": [
  {
   "attachments": {},
   "cell_type": "markdown",
   "metadata": {
    "application/vnd.databricks.v1+cell": {
     "cellMetadata": {},
     "inputWidgets": {},
     "nuid": "fa917515-f1c3-4cf2-b869-d6f7c1daeaee",
     "showTitle": false,
     "title": ""
    }
   },
   "source": [
    "# Operaciones de Aprendizaje Automático I\n",
    "## Carrera de especialización en inteligencia artificial  \n",
    "\n",
    "## Buenas Prácticas de programación\n",
    "En este notebook se presentan algunas prácticas sugeridas para mantener el código ordenado siguiendo estándares de programación comunmente utilizados.\n",
    "El objetivo es desarrollar las habilidades necesarias para poder desarrollar código listo para producción.\n",
    "\n",
    "Se tratan los siguientes temas:\n",
    "\n",
    "* Código limpio y modular: Utilización de nombres declarativos, cuando utilizar funciones y cuando clases.  \n",
    "* Refactorización y optimización del código para facilitar el uso a otros desarrolladores.\n",
    "* Documentación: se revisarán in-line comments, document strings y la documentación del proyecto.\n",
    "* Estándares PEP8 & Linting, como implementar estas mejores prácticas utilizando herramientas como AutoPEP8 y pylint\n",
    "\n",
    "----------------------\n",
    "\n",
    "Escribir código limpio se hace referencia a que el código sea fácil de leer y que sea lo más simple posible evitando redundancias. Esto es clave para facilitar el trabajo colaborativo dentro de un equipo de desarrollo.\n"
   ]
  },
  {
   "cell_type": "markdown",
   "metadata": {
    "application/vnd.databricks.v1+cell": {
     "cellMetadata": {},
     "inputWidgets": {},
     "nuid": "5a586494-c8e7-41bf-98ef-6e8cb3c58e14",
     "showTitle": false,
     "title": ""
    }
   },
   "source": [
    "Cuando se utilizan nombres poco descriptivos a veces es necesario utilizar muchos comentarios in-line para poder aclarar lo que estamos escribiendo, como en el siguiente ejemplo:"
   ]
  },
  {
   "cell_type": "code",
   "execution_count": 1,
   "metadata": {
    "application/vnd.databricks.v1+cell": {
     "cellMetadata": {
      "byteLimit": 2048000,
      "rowLimit": 10000
     },
     "inputWidgets": {},
     "nuid": "8cdd3059-bbcd-4251-8e88-5cf447fa7226",
     "showTitle": false,
     "title": ""
    },
    "jupyter": {
     "is_executing": true
    }
   },
   "outputs": [
    {
     "name": "stdout",
     "output_type": "stream",
     "text": [
      "Media de los alumnos: 46.75\n",
      "Media (ajustada) de los alumnos: 66.68249101467867\n"
     ]
    }
   ],
   "source": [
    "s = [84, 27, 42, 34] # Puntaje de los estudiantes en el examen\n",
    "print(f\"Media de los alumnos: {sum(s)/len(s)}\") # Imprimir la media del puntaje de los estudiantes\n",
    "\n",
    "s1 = [x**0.5 * 10 for x in s] # Se proyectan los puntajes sobre la raíz cuadrada y se almacena en una lista\n",
    "print(f\"Media (ajustada) de los alumnos: {sum(s1)/len(s1)}\") # Imprimir la media de los puntajes afectados por la raíz cuadrada"
   ]
  },
  {
   "cell_type": "markdown",
   "metadata": {
    "application/vnd.databricks.v1+cell": {
     "cellMetadata": {},
     "inputWidgets": {},
     "nuid": "e5141ccd-fb84-4540-8ffc-a206e99e058c",
     "showTitle": false,
     "title": ""
    }
   },
   "source": [
    "Si optamos por utilizar nombres de variables y funciones más descriptivos, podemos obtener un código mucho más limpio y que es más facil de leer, sin la necesidad de agregar comentarios a cada línea de código. Podemos ver esto en el siguiente ejemplo:"
   ]
  },
  {
   "cell_type": "code",
   "execution_count": 2,
   "metadata": {
    "application/vnd.databricks.v1+cell": {
     "cellMetadata": {
      "byteLimit": 2048000,
      "rowLimit": 10000
     },
     "inputWidgets": {},
     "nuid": "01a48b62-15c6-468f-af34-eb5b8d5cb791",
     "showTitle": false,
     "title": ""
    }
   },
   "outputs": [
    {
     "name": "stdout",
     "output_type": "stream",
     "text": [
      "Media de los alumnos: 46.75\n",
      "Media (ajustada) de los alumnos: 66.68249101467867\n"
     ]
    }
   ],
   "source": [
    "import math\n",
    "import numpy as np\n",
    "\n",
    "scores_list = [84, 27, 42, 34]\n",
    "print(f\"Media de los alumnos: {np.mean(scores_list)}\")\n",
    "\n",
    "curved_test_scores = [math.sqrt(score) * 10 for score in scores_list]\n",
    "print(f\"Media (ajustada) de los alumnos: {np.mean(curved_test_scores)}\")"
   ]
  },
  {
   "attachments": {},
   "cell_type": "markdown",
   "metadata": {
    "application/vnd.databricks.v1+cell": {
     "cellMetadata": {},
     "inputWidgets": {},
     "nuid": "777766b0-1448-454f-87e1-e30da4b6f10c",
     "showTitle": false,
     "title": ""
    }
   },
   "source": [
    "Algunas recomendaciones para poder incorporar nombres significativos son:\n",
    "\n",
    "#### Ser descriptivos y tratar de incorporar el tipo de lo que estamos definiendo\n",
    "\n",
    "Por ejemplo si estamos definiendo una variable booleana podemos utilizar `is_` o `has_` para dejar en claro que es una condición. Si estamos trabajando con listas, un nombre como `clients_list` puede ser más intuitivo que `clients`.\n",
    "\n",
    "Otra recomendación puede ser utilizar verbos para nombrar funciones y sustantivos para nombrar variables.\n",
    "\n",
    "#### Evitar abreviaciones y nombres de una única letra\n",
    "\n",
    "Hay que tener en consideración quién va a necesitar leer nuestro código más adelante. Si estamos trabajando con otros científicos de datos de nuestro mismo equipo es muy probable que entiendan las abreviaciones o nombres específicos que le damos a las variables. Si, en cambio, nuestro código va a ser leido por un ingeniero de software de otro país por ejemplo, tal vez no tenga el contexto necesario para poder entender los  nombres internos que utilizamos dentro del equipo.  \n",
    "\n",
    "Pueden existir excepciones cuando utilizamos contadores o variables matemáticas como `x`, `y`, etc.\n",
    "\n",
    "#### Nombres largos no siempre significan nombres significativos\n",
    "\n",
    "Tenemos que ser descriptivos pero sin utilizar más caractéres de los necesarios.  \n",
    "Por ejemplo, los nombres utilizados en la siguiente función pueden ser demasiado largos\n",
    "```\n",
    "def count_unique_values_of_names_list_with_set(names_list):\n",
    "    return len(set(names_list))\n",
    "```\n",
    "\n",
    "En cambio si optamos por algo como lo siguiente, puede ser más compacto sin perder interpretabilidad: \n",
    " \n",
    "```\n",
    "def count_unique_values(arr):\n",
    "    return len(set(arr))\n",
    "```\n",
    "\n",
    "----\n",
    "### Espacios en blanco e indentado\n",
    "\n",
    "Utilizar los espacios en blanco de manera correcta ayuda a leer mejor el código y comprender cual es la lógica de su estructura. También son útiles para detectar errores de sintaxis y lógicos en el código.  \n",
    "\n",
    "Algunas recomendaciones son:  \n",
    "* Organizar el código siendo consistente con la indentación adoptada. Un estándar es utilizar cuatro espacios para indentar una línea.\n",
    "* Separar secciones de código con líneas en blanco, sin espacios en blanco (sin ' ').\n",
    "* Limitar la cantidad de caractéres a 79 es un estándar de la guía de estilo [PEP 8](https://peps.python.org/pep-0008/).  \n",
    "\n",
    "El siguiente es un ejemplo en donde la indentación se podría mejorar:"
   ]
  },
  {
   "cell_type": "code",
   "execution_count": 3,
   "metadata": {
    "application/vnd.databricks.v1+cell": {
     "cellMetadata": {},
     "inputWidgets": {},
     "nuid": "67919cab-3bb0-48d3-b800-a31b536ce7b0",
     "showTitle": false,
     "title": ""
    }
   },
   "outputs": [],
   "source": [
    "def ejemplo_funcion(param1, param2, \n",
    "    param3, param4):\n",
    "    if param1 > param2: print(\"param1 es mayor que param2\")\n",
    "    else: print(\"param2 es mayor que param1\")\n",
    "    return param3 + param4"
   ]
  },
  {
   "cell_type": "markdown",
   "metadata": {
    "application/vnd.databricks.v1+cell": {
     "cellMetadata": {},
     "inputWidgets": {},
     "nuid": "60606b0e-9994-4f0b-914f-a40e9d6842c8",
     "showTitle": false,
     "title": ""
    }
   },
   "source": [
    "En este caso, indentación fue utilizada de manera más correcta:"
   ]
  },
  {
   "cell_type": "code",
   "execution_count": 4,
   "metadata": {
    "application/vnd.databricks.v1+cell": {
     "cellMetadata": {},
     "inputWidgets": {},
     "nuid": "d29e86d2-5a21-4d72-b28f-04067ee67916",
     "showTitle": false,
     "title": ""
    }
   },
   "outputs": [],
   "source": [
    "def ejemplo_funcion(param1, param2,\n",
    "                    param3, param4):\n",
    "\n",
    "    if param1 > param2:\n",
    "        print(\"param1 es mayor que param2\")\n",
    "    else:\n",
    "        print(\"param2 es mayor que param1\")\n",
    "\n",
    "    return param3 + param4"
   ]
  },
  {
   "cell_type": "markdown",
   "metadata": {
    "application/vnd.databricks.v1+cell": {
     "cellMetadata": {},
     "inputWidgets": {},
     "nuid": "7e92a721-dc3f-4ed4-8f48-102e4cfa4639",
     "showTitle": false,
     "title": ""
    }
   },
   "source": [
    "----\n",
    "### Escribiendo código modular\n",
    "\n",
    "Para lograr que el código sea lo más limpio posible, la programación modular nos puede ayudar. Esto quiere decir que el código está lógicamente dividido o separado en funciones y módulos más pequeños. Esta práctica facilita la organización, la eficiencia y la reutilización de ciertas partes del código.\n",
    "\n",
    "* **Modularizar el código** nos permite reutilizar partes del desarrollo. Es una buena práctica consolidar las partes del código que repetimos, en una función o en bucles.  \n",
    "* **Separar el código que contiene la lógica de nuestro programa en funciones** también facilita la lectura del mismo, ya que nos da la posibilidad de utilizar nombres descriptivos en las funciones.  \n",
    "\n",
    "Es importante tener en cuenta que existe una relación de compromiso entre la cantidad de módulos y la interpretabilidad del código. Si modularizamos el código en exceso, también será contraproducente.  \n",
    "\n",
    "* Las **funciones deben realizar una única tarea**. Si cada función realizar más de una tarea, se vuelve más dificil reutilizar el código.  \n",
    "* Los **nombres de los argumentos en las funciones** pueden ser más arbitrarios o generales para permitir la reutilización con mayor facilidad.  \n",
    "\n",
    "En lo posible **limitar el número de argumentos** a 3 o 4 en las funciones."
   ]
  },
  {
   "cell_type": "markdown",
   "metadata": {
    "application/vnd.databricks.v1+cell": {
     "cellMetadata": {},
     "inputWidgets": {},
     "nuid": "9b88aa29-e280-4644-a595-709b48e5a1a9",
     "showTitle": false,
     "title": ""
    }
   },
   "source": [
    "----\n",
    "### Refactorizando el código\n",
    "\n",
    "A medida que nos encontramos realizando el desarrollo de nuestra solución, es común que no prestemos el 100% de atención a la prolijidad del código. Estamos más atento a lograr el objetivo de responder a la pregunta del negocio/proyecto.  \n",
    "\n",
    "Es esperable que en una primera instancia tal vez existan algunas variables que no están nombradas de forma descriptiva o que algunas partes del código sean un poco repetitivas. Esto se debe a que mientras estamos realizando el desarrollo, posiblemente no contemos con todo el conocimiento sobre nuestro código como para saber qué parte del código se podría reutilizar, qué partes nos conviene encapsular en una función, etc. Por esto, luego de lograr una primera solución que cumpla nuestras expectativas, es importante volver sobre el desarrollo realizado y revisar el cumplimiento de las buenas prácticas que se definieron previamente.  \n",
    "\n",
    "Esta etapa de revisión se conoce como **refactorización** y hace referencia a **reestructurar el código para mejorar la estructura interna del desarrollo sin cambiar la funcionalidad externa**.\n",
    "\n",
    "Ventajas de realizar refactorización:\n",
    "* Reducción de la carga de trabajo para desarrollar nuevas features basadas en el código existente.\n",
    "* Facilita los trabajos de mantenimiento sobre el código.\n",
    "* Nos ayuda a mejorar nuestras habilidades como desarrolladores.\n",
    "\n",
    "Veamos el siguiente ejemplo,"
   ]
  },
  {
   "cell_type": "code",
   "execution_count": 5,
   "metadata": {
    "application/vnd.databricks.v1+cell": {
     "cellMetadata": {
      "byteLimit": 2048000,
      "rowLimit": 10000
     },
     "inputWidgets": {},
     "nuid": "ead8207a-f372-46ac-98bd-d2d5d8a6d8f2",
     "showTitle": false,
     "title": ""
    }
   },
   "outputs": [
    {
     "name": "stdout",
     "output_type": "stream",
     "text": [
      "['cliente_ID', 'region_retiro', 'compra_credito', 'compra_efectivo']\n"
     ]
    }
   ],
   "source": [
    "# Supongamos que tenemos este listado de nombres\n",
    "features_list = [\n",
    "        'cliente ID',\n",
    "        'region retiro',\n",
    "        'compra credito',\n",
    "        'compra efectivo',\n",
    "        ]\n",
    "\n",
    "# Los voy a renombrar cambiando el espacio por '_'\n",
    "new_labels_list = features_list.copy()\n",
    "\n",
    "# OBS: Esto podemos mejorarlo refactorizando el código\n",
    "new_labels_list[0] = features_list[0].replace(' ', '_')\n",
    "new_labels_list[1] = features_list[1].replace(' ', '_')\n",
    "new_labels_list[2] = features_list[2].replace(' ', '_')\n",
    "new_labels_list[3] = features_list[3].replace(' ', '_')\n",
    "\n",
    "print(new_labels_list)"
   ]
  },
  {
   "cell_type": "code",
   "execution_count": 6,
   "metadata": {},
   "outputs": [
    {
     "name": "stdout",
     "output_type": "stream",
     "text": [
      "['cliente_ID', 'region_retiro', 'compra_credito', 'compra_efectivo']\n"
     ]
    }
   ],
   "source": [
    "# Supongamos que tenemos este listado de nombres\n",
    "features_list = [\n",
    "        'cliente ID',\n",
    "        'region retiro',\n",
    "        'compra credito',\n",
    "        'compra efectivo',\n",
    "        ]\n",
    "\n",
    "# Los voy a renombrar cambiando el espacio por '_'\n",
    "new_labels_list = features_list.copy()\n",
    "\n",
    "# Refactorizamos usando list comprehension\n",
    "new_labels_list = [name.replace(' ', '_') for name in features_list]\n",
    "\n",
    "print(new_labels_list)"
   ]
  },
  {
   "cell_type": "markdown",
   "metadata": {
    "application/vnd.databricks.v1+cell": {
     "cellMetadata": {},
     "inputWidgets": {},
     "nuid": "760a06cb-e9ed-43a6-a810-181b128dc26e",
     "showTitle": false,
     "title": ""
    }
   },
   "source": [
    "Veamos ahora un ejemplo, refactorizando usando funciones"
   ]
  },
  {
   "cell_type": "code",
   "execution_count": 7,
   "metadata": {
    "application/vnd.databricks.v1+cell": {
     "cellMetadata": {
      "byteLimit": 2048000,
      "rowLimit": 10000
     },
     "inputWidgets": {},
     "nuid": "ebee6306-9124-4428-ac0a-f23d64d696a7",
     "showTitle": false,
     "title": ""
    }
   },
   "outputs": [],
   "source": [
    "import pandas as pd\n",
    "from sklearn.datasets import load_wine\n",
    "data = load_wine()\n",
    "df_dataset = pd.DataFrame(data = data.data, \n",
    "                          columns = data.feature_names)\n",
    "\n",
    "# Aca vemos que hay una repetición de la misma acción que \n",
    "# podriamos llevarlo a una función\n",
    "median_alcohol = df_dataset.alcohol.median()\n",
    "for i, alcohol in enumerate(df_dataset.alcohol):\n",
    "    if alcohol >= median_alcohol:\n",
    "        df_dataset.loc[i, 'alcohol_level'] = 'high'\n",
    "    else:\n",
    "        df_dataset.loc[i, 'alcohol_level'] = 'low'\n",
    "\n",
    "median_acid = df_dataset.malic_acid.median()\n",
    "for i, malic_acid in enumerate(df_dataset.malic_acid):\n",
    "    if malic_acid >= median_acid:\n",
    "        df_dataset.loc[i, 'malic_acid_level'] = 'high'\n",
    "    else:\n",
    "        df_dataset.loc[i, 'malic_acid_level'] = 'low'"
   ]
  },
  {
   "cell_type": "code",
   "execution_count": 8,
   "metadata": {},
   "outputs": [],
   "source": [
    "import pandas as pd\n",
    "from sklearn.datasets import load_wine\n",
    "data = load_wine()\n",
    "df_dataset = pd.DataFrame(data = data.data, \n",
    "                          columns = data.feature_names)\n",
    "\n",
    "def categorize_column_by_median(data_set, column_name):\n",
    "    median_value = data_set[column_name].median()\n",
    "\n",
    "    # OBS: Refactorizamos tambien el ciclo FOR\n",
    "    data_set[column_name + \"_level\"] = \"low\"\n",
    "\n",
    "    data_set.loc[data_set[column_name] >= median_value, \n",
    "                 column_name + \"_level\"] = 'high'\n",
    "    \n",
    "    # No retornamos nada porque el dataframe ingresa por \n",
    "    # referencia.\n",
    "    \n",
    "# Llamamos a la función\n",
    "categorize_column_by_median(df_dataset, 'alcohol')\n",
    "categorize_column_by_median(df_dataset, 'malic_acid')"
   ]
  },
  {
   "attachments": {},
   "cell_type": "markdown",
   "metadata": {
    "application/vnd.databricks.v1+cell": {
     "cellMetadata": {},
     "inputWidgets": {},
     "nuid": "778fab21-e3c7-4347-93f7-370476547f41",
     "showTitle": false,
     "title": ""
    }
   },
   "source": [
    "### Documentación\n",
    "\n",
    "La documentación es texto adicional que se encuentra en el código.  \n",
    " \n",
    "* Ayuda a clarificar partes del código que son complejas\n",
    "* Nos permite leer y navegar más rapidamente por las distintas secciones del código\n",
    "* Describe formas de uso y/o propósitos de componentes de código\n",
    "\n",
    "Existen diferentes tipos de documentación para incorporar en distintos niveles del programa:\n",
    "\n",
    "* Comentarios In-line\n",
    "* [Docstrings](https://peps.python.org/pep-0257/). Existen muchos tipos de [Docstrings](http://daouzli.com/blog/docstring.html), pero el recomendado por PEP 257 es el llamado reStructuredText. Se puede usar cualquiera pero lo importante ser consistente.\n",
    "* Readme y documentos extras en el proyecto\n",
    "\n",
    "Si se requieren muchos comentarios para explicar el propósito del código, es posible que sea necesario una refactorización ya no es legible en si mismo.  \n",
    "Los comentarios se suelen utilizar para explicar aspectos que el código no puede. Por ejemplo, la justificación para realizar alguna tarea en un cierto modo.  \n",
    "\n",
    "El siguiente es un ejemplo de docstring para una función:"
   ]
  },
  {
   "cell_type": "code",
   "execution_count": 9,
   "metadata": {
    "application/vnd.databricks.v1+cell": {
     "cellMetadata": {},
     "inputWidgets": {},
     "nuid": "38399554-c2a5-4586-a9b2-a3638e44ca3d",
     "showTitle": false,
     "title": ""
    }
   },
   "outputs": [],
   "source": [
    "def generate_calibration_curve(performance_table: pd.DataFrame,\n",
    "                               pth: str) -> None:\n",
    "    \"\"\"\n",
    "    This function takes the performance table of the model and generates its calibration curve\n",
    "    \n",
    "    :param performance_table: performance table of the model calculated by the function generate_performance_table.\n",
    "    :type performance_table: pd.DataFrame\n",
    "    \n",
    "    :param pth: path to save the calibration curve\n",
    "    :type pth: str\n",
    "    \"\"\"\n",
    "    \n",
    "    # CODIGO\n",
    "    \n",
    "    return None"
   ]
  },
  {
   "cell_type": "code",
   "execution_count": 10,
   "metadata": {},
   "outputs": [
    {
     "name": "stdout",
     "output_type": "stream",
     "text": [
      "Help on function generate_calibration_curve in module __main__:\n",
      "\n",
      "generate_calibration_curve(performance_table: pandas.core.frame.DataFrame, pth: str) -> None\n",
      "    This function takes the performance table of the model and generates its calibration curve\n",
      "    \n",
      "    :param performance_table: performance table of the model calculated by the function generate_performance_table.\n",
      "    :type performance_table: pd.DataFrame\n",
      "    \n",
      "    :param pth: path to save the calibration curve\n",
      "    :type pth: str\n",
      "\n"
     ]
    }
   ],
   "source": [
    "help(generate_calibration_curve)"
   ]
  },
  {
   "attachments": {},
   "cell_type": "markdown",
   "metadata": {
    "jp-MarkdownHeadingCollapsed": true
   },
   "source": [
    "#### Function annotations\n",
    "\n",
    "Las anotaciones de funciones son una característica que permite agregar información adicional a los argumentos y valores de retorno de una función.  \n",
    "Hacen referencia al tipo de variable y hay que mencionar que en el caso de Python son algo opcional (pero altamente recomendado) que no va a afectar el funcionamiento del código.\n",
    "\n",
    "En el caso de los argumentos de la función se agrega `: tipo_de_variable` luego del nombre. Y para el retorno de la función se agrega `-> tipo_de_variable`.\n",
    "\n",
    "El uso de anotaciones en nuestro código le aporta facilidad a la lectura y también ayuda a encontrar errores cuando debuggeamos.\n",
    "\n",
    "Si queremos forzar el control de tipo de variables durante runtime podemos usar la libreria [pydantic](https://docs.pydantic.dev/latest/). Esta libreria toma principal importancia en el desarrollo de APIs.\n",
    "\n",
    "-----"
   ]
  },
  {
   "cell_type": "markdown",
   "metadata": {
    "application/vnd.databricks.v1+cell": {
     "cellMetadata": {},
     "inputWidgets": {},
     "nuid": "5aa2ef3b-727d-470e-86f2-fa4908d419f5",
     "showTitle": false,
     "title": ""
    }
   },
   "source": [
    "### Herramientas para formatear código\n",
    "\n",
    "Existen diversas herramientas para automatizar el formato del código. A continuación, veremos algunas que siguen el estándar PEP8.\n",
    "\n",
    "#### [autopep8](https://pypi.org/project/autopep8/) & [pylint](https://pypi.org/project/pylint/)\n",
    "\n",
    "De manera local, otra alternativa podría ser utilizar pylint y autopep8 para mantener nuestro código limpio.  \n",
    "\n",
    "Una vez que tenemos las librerías instaladas, desde una terminal podemos ejecutar el siguiente comando:\n",
    "\n",
    "`pylint script_name.py`  \n",
    "\n",
    "Lo que nos devolverá una evaluación de nuestro código con un puntaje de 0 a 10 sobre que tan alineado está nuestro código al estándar pep8.  \n",
    "También nos bridará el número de línea en donde debemos realizar una modificaicón y una breve descripción de qué es lo que debemos refactorizar.  \n",
    "\n",
    "Una alternativa es realizar todos los cambios de forma manual o también podemos utilizar la herramienta autopep8 para ayudarnos. Desde una terminal podemos ejecutar el siguiente comando:\n",
    "\n",
    "`autopep8 --in-place --aggressive --aggressive script_name.py`  \n",
    "\n",
    "Lo que nos refactorizará de manera automática nuestro script. Tener en cuenta que sobreescribirá el archivo existente. También habrá cambios que el formateador no será capáz de realizar como un renombramiento de variables, eso debemos cambiarlo de forma manual, pero solucionará problemas como indentaciones incorrectas, saltos de línea, líneas demasiado largas, etc.\n",
    "\n"
   ]
  },
  {
   "cell_type": "code",
   "execution_count": null,
   "metadata": {},
   "outputs": [],
   "source": []
  }
 ],
 "metadata": {
  "application/vnd.databricks.v1+notebook": {
   "dashboards": [],
   "language": "python",
   "notebookMetadata": {
    "pythonIndentUnit": 4
   },
   "notebookName": "OneVision-BestPractices",
   "notebookOrigID": 99341718290018,
   "widgets": {}
  },
  "kernelspec": {
   "display_name": "Python 3 (ipykernel)",
   "language": "python",
   "name": "python3"
  },
  "language_info": {
   "codemirror_mode": {
    "name": "ipython",
    "version": 3
   },
   "file_extension": ".py",
   "mimetype": "text/x-python",
   "name": "python",
   "nbconvert_exporter": "python",
   "pygments_lexer": "ipython3",
   "version": "3.10.14"
  }
 },
 "nbformat": 4,
 "nbformat_minor": 4
}
